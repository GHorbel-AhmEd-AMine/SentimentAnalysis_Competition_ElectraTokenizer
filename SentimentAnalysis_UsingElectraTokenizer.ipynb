{
  "nbformat": 4,
  "nbformat_minor": 0,
  "metadata": {
    "colab": {
      "name": "SentimentAnalysis_UsingElectraTokenizer.ipynb",
      "provenance": [],
      "collapsed_sections": []
    },
    "kernelspec": {
      "name": "python3",
      "display_name": "Python 3"
    },
    "language_info": {
      "name": "python"
    },
    "accelerator": "GPU"
  },
  "cells": [
    {
      "cell_type": "markdown",
      "metadata": {
        "id": "ui2bUWwCAEGN"
      },
      "source": [
        "#Loading Libraries\n"
      ]
    },
    {
      "cell_type": "code",
      "metadata": {
        "colab": {
          "base_uri": "https://localhost:8080/"
        },
        "id": "oGTq6aITzirG",
        "outputId": "52556029-e87c-4196-f814-99f3cf4696f7"
      },
      "source": [
        "import numpy as np \n",
        "import pandas as pd\n",
        "import seaborn as sns\n",
        "# to ignore warnings\n",
        "import warnings\n",
        "warnings.filterwarnings(\"ignore\")\n",
        "\n",
        "\n",
        "import os\n",
        "import gc\n",
        "import string\n",
        "import math\n",
        "import scipy as sp\n",
        "import random\n",
        "from pandas import Timestamp\n",
        "\n",
        "import re\n",
        "import nltk\n",
        "from nltk.stem import WordNetLemmatizer\n",
        "from nltk.corpus import stopwords\n",
        "nltk.download('punkt')\n",
        "nltk.download('stopwords')\n",
        "nltk.download('wordnet')"
      ],
      "execution_count": null,
      "outputs": [
        {
          "output_type": "stream",
          "text": [
            "[nltk_data] Downloading package punkt to /root/nltk_data...\n",
            "[nltk_data]   Package punkt is already up-to-date!\n",
            "[nltk_data] Downloading package stopwords to /root/nltk_data...\n",
            "[nltk_data]   Package stopwords is already up-to-date!\n",
            "[nltk_data] Downloading package wordnet to /root/nltk_data...\n",
            "[nltk_data]   Package wordnet is already up-to-date!\n"
          ],
          "name": "stdout"
        },
        {
          "output_type": "execute_result",
          "data": {
            "text/plain": [
              "True"
            ]
          },
          "metadata": {
            "tags": []
          },
          "execution_count": 59
        }
      ]
    },
    {
      "cell_type": "markdown",
      "metadata": {
        "id": "yStBfgI0BcRK"
      },
      "source": [
        "# Using Cuda \n",
        "\n",
        "\n"
      ]
    },
    {
      "cell_type": "markdown",
      "metadata": {
        "id": "gdXXFPMwBtAb"
      },
      "source": [
        "we can accelerate deep learning and other compute-intensive apps by taking advantage of CUDA and the parallel processing power of GPUs. ... CUDA enables developers to speed up compute-intensive applications by harnessing the power of GPUs for the parallelizable part of the computation."
      ]
    },
    {
      "cell_type": "code",
      "metadata": {
        "colab": {
          "base_uri": "https://localhost:8080/"
        },
        "id": "gtUrMGmfzm_D",
        "outputId": "826e6b65-798b-4c65-9b64-7e47abc0cfd5"
      },
      "source": [
        "import torch\n",
        "if torch.cuda.is_available():  \n",
        "    device = torch.device(\"cuda\")\n",
        "    print('I will use the GPU:', torch.cuda.get_device_name(0))\n",
        "    \n",
        "else:\n",
        "    print('No GPU available, using the CPU instead.')\n",
        "    device = torch.device(\"cpu\")"
      ],
      "execution_count": null,
      "outputs": [
        {
          "output_type": "stream",
          "text": [
            "I will use the GPU: Tesla T4\n"
          ],
          "name": "stdout"
        }
      ]
    },
    {
      "cell_type": "markdown",
      "metadata": {
        "id": "mByxqiQMCHJb"
      },
      "source": [
        "#Loading and preparing training data & EDA ( Exploratory data analysis )"
      ]
    },
    {
      "cell_type": "markdown",
      "metadata": {
        "id": "Zn2Pax3iCUbE"
      },
      "source": [
        "Exploratory Data Analysis (EDA) refers to the critical process of performing initial investigations on data so as to discover patterns,to spot anomalies,to test hypothesis and to check assumptions with the help of summary statistics and graphical representations."
      ]
    },
    {
      "cell_type": "code",
      "metadata": {
        "id": "AMhBZW14znDN"
      },
      "source": [
        "updated_train=pd.read_csv(\"/content/drive/MyDrive/Course/Courses/Competitions/Sem2/Others/Dphi/Train_Data.csv\")\n",
        "updated_test=pd.read_csv(\"/content/drive/MyDrive/Course/Courses/Competitions/Sem2/Others/Dphi/Test_Data.csv\")"
      ],
      "execution_count": null,
      "outputs": []
    },
    {
      "cell_type": "code",
      "metadata": {
        "colab": {
          "base_uri": "https://localhost:8080/",
          "height": 206
        },
        "id": "QW13R2LrznEw",
        "outputId": "57d9d013-9c91-4e09-e541-6b22bd3ccaf9"
      },
      "source": [
        "updated_train.head()"
      ],
      "execution_count": null,
      "outputs": [
        {
          "output_type": "execute_result",
          "data": {
            "text/html": [
              "<div>\n",
              "<style scoped>\n",
              "    .dataframe tbody tr th:only-of-type {\n",
              "        vertical-align: middle;\n",
              "    }\n",
              "\n",
              "    .dataframe tbody tr th {\n",
              "        vertical-align: top;\n",
              "    }\n",
              "\n",
              "    .dataframe thead th {\n",
              "        text-align: right;\n",
              "    }\n",
              "</style>\n",
              "<table border=\"1\" class=\"dataframe\">\n",
              "  <thead>\n",
              "    <tr style=\"text-align: right;\">\n",
              "      <th></th>\n",
              "      <th>review</th>\n",
              "      <th>sentiment</th>\n",
              "    </tr>\n",
              "  </thead>\n",
              "  <tbody>\n",
              "    <tr>\n",
              "      <th>0</th>\n",
              "      <td>think robert ryans best film portrayed someone...</td>\n",
              "      <td>1</td>\n",
              "    </tr>\n",
              "    <tr>\n",
              "      <th>1</th>\n",
              "      <td>juano hernandez exceptional actor played suppo...</td>\n",
              "      <td>1</td>\n",
              "    </tr>\n",
              "    <tr>\n",
              "      <th>2</th>\n",
              "      <td>shocked sign indicate cash</td>\n",
              "      <td>0</td>\n",
              "    </tr>\n",
              "    <tr>\n",
              "      <th>3</th>\n",
              "      <td>sat another ten minute finally gave left</td>\n",
              "      <td>0</td>\n",
              "    </tr>\n",
              "    <tr>\n",
              "      <th>4</th>\n",
              "      <td>igo charger tip really great</td>\n",
              "      <td>1</td>\n",
              "    </tr>\n",
              "  </tbody>\n",
              "</table>\n",
              "</div>"
            ],
            "text/plain": [
              "                                              review  sentiment\n",
              "0  think robert ryans best film portrayed someone...          1\n",
              "1  juano hernandez exceptional actor played suppo...          1\n",
              "2                         shocked sign indicate cash          0\n",
              "3           sat another ten minute finally gave left          0\n",
              "4                       igo charger tip really great          1"
            ]
          },
          "metadata": {
            "tags": []
          },
          "execution_count": 57
        }
      ]
    },
    {
      "cell_type": "code",
      "metadata": {
        "colab": {
          "base_uri": "https://localhost:8080/"
        },
        "id": "0xLksm2F4L-k",
        "outputId": "22312f1a-a9f2-4ccd-bdd2-ab7feb60bcbc"
      },
      "source": [
        "updated_test.shape"
      ],
      "execution_count": null,
      "outputs": [
        {
          "output_type": "execute_result",
          "data": {
            "text/plain": [
              "(686, 1)"
            ]
          },
          "metadata": {
            "tags": []
          },
          "execution_count": 4
        }
      ]
    },
    {
      "cell_type": "code",
      "metadata": {
        "colab": {
          "base_uri": "https://localhost:8080/",
          "height": 206
        },
        "id": "4QsYIBhRznGh",
        "outputId": "8c1401d8-8ce8-4cba-be5d-f7dfbdaf3e08"
      },
      "source": [
        "updated_test.head()"
      ],
      "execution_count": null,
      "outputs": [
        {
          "output_type": "execute_result",
          "data": {
            "text/html": [
              "<div>\n",
              "<style scoped>\n",
              "    .dataframe tbody tr th:only-of-type {\n",
              "        vertical-align: middle;\n",
              "    }\n",
              "\n",
              "    .dataframe tbody tr th {\n",
              "        vertical-align: top;\n",
              "    }\n",
              "\n",
              "    .dataframe thead th {\n",
              "        text-align: right;\n",
              "    }\n",
              "</style>\n",
              "<table border=\"1\" class=\"dataframe\">\n",
              "  <thead>\n",
              "    <tr style=\"text-align: right;\">\n",
              "      <th></th>\n",
              "      <th>review</th>\n",
              "    </tr>\n",
              "  </thead>\n",
              "  <tbody>\n",
              "    <tr>\n",
              "      <th>0</th>\n",
              "      <td>great service food</td>\n",
              "    </tr>\n",
              "    <tr>\n",
              "      <th>1</th>\n",
              "      <td>pairing iphone could happier far</td>\n",
              "    </tr>\n",
              "    <tr>\n",
              "      <th>2</th>\n",
              "      <td>plot hole pair fishnet stocking direction edit...</td>\n",
              "    </tr>\n",
              "    <tr>\n",
              "      <th>3</th>\n",
              "      <td>surely doesnt know make coherent action movie ...</td>\n",
              "    </tr>\n",
              "    <tr>\n",
              "      <th>4</th>\n",
              "      <td>still quite interesting entertaining follow</td>\n",
              "    </tr>\n",
              "  </tbody>\n",
              "</table>\n",
              "</div>"
            ],
            "text/plain": [
              "                                              review\n",
              "0                                 great service food\n",
              "1                   pairing iphone could happier far\n",
              "2  plot hole pair fishnet stocking direction edit...\n",
              "3  surely doesnt know make coherent action movie ...\n",
              "4        still quite interesting entertaining follow"
            ]
          },
          "metadata": {
            "tags": []
          },
          "execution_count": 5
        }
      ]
    },
    {
      "cell_type": "code",
      "metadata": {
        "colab": {
          "base_uri": "https://localhost:8080/"
        },
        "id": "w7eHC_P1mSYm",
        "outputId": "e4c37614-1f3a-45f7-ba43-da0b385239b2"
      },
      "source": [
        "print('There are {} rows and {} columns in train'.format(updated_train.shape[0],updated_train.shape[1]))\n",
        "print('There are {} rows and {} columns in train'.format(updated_test.shape[0],updated_test.shape[1]))"
      ],
      "execution_count": null,
      "outputs": [
        {
          "output_type": "stream",
          "text": [
            "There are 2060 rows and 2 columns in train\n",
            "There are 686 rows and 1 columns in train\n"
          ],
          "name": "stdout"
        }
      ]
    },
    {
      "cell_type": "code",
      "metadata": {
        "colab": {
          "base_uri": "https://localhost:8080/",
          "height": 295
        },
        "id": "De1xOIp3mahU",
        "outputId": "d6f40215-e2e0-42f8-d898-cc41ba67abc9"
      },
      "source": [
        "# updated_train[\"review_length\"] = updated_train[\"review\"].apply(len)\n",
        "# sns.distplot(updated_train[\"review_length\"],bins=50)\n",
        "# plt.xlim(min(updated_train[\"review_length\"]), max(updated_train[\"review_length\"]))\n",
        "# plt.title(\"Histogram of Review Length\")\n",
        "# plt.xlabel(\"Number of Characters\")\n",
        "# plt.ylabel(\"Density\")\n",
        "# plt.show()"
      ],
      "execution_count": null,
      "outputs": [
        {
          "output_type": "display_data",
          "data": {
            "image/png": "[encoded data removed]",
            "text/plain": [
              "<Figure size 432x288 with 1 Axes>"
            ]
          },
          "metadata": {
            "tags": [],
            "needs_background": "light"
          }
        }
      ]
    },
    {
      "cell_type": "code",
      "metadata": {
        "colab": {
          "base_uri": "https://localhost:8080/",
          "height": 373
        },
        "id": "z8rWpHjdnVoA",
        "outputId": "588ee432-59b5-461a-9d44-6f6db02c7924"
      },
      "source": [
        "# g = sns.FacetGrid(updated_train, col=\"sentiment\", height=5)\n",
        "# g = g.map(sns.distplot, \"review_length\")\n",
        "# plt.suptitle(\"Distribution Review Length\")\n",
        "# plt.show()"
      ],
      "execution_count": null,
      "outputs": [
        {
          "output_type": "display_data",
          "data": {
            "image/png": "[encoded data removed]",
            "text/plain": [
              "<Figure size 720x360 with 2 Axes>"
            ]
          },
          "metadata": {
            "tags": [],
            "needs_background": "light"
          }
        }
      ]
    },
    {
      "cell_type": "code",
      "metadata": {
        "colab": {
          "base_uri": "https://localhost:8080/",
          "height": 295
        },
        "id": "7dPEZOXenztT",
        "outputId": "2f4135cf-8373-4d1d-b56f-0c85883f7ea0"
      },
      "source": [
        "# def avg_word_length(x):\n",
        "#     return np.sum([len(w) for w in x.split()]) / len(x.split())\n",
        "\n",
        "# updated_train[\"avg_word_length\"] = updated_train[\"review\"].apply(avg_word_length)\n",
        "# sns.distplot(updated_train[\"avg_word_length\"])\n",
        "# plt.title(\"Histogram of Average Word Length\")\n",
        "# plt.xlabel(\"Average Word Length\")\n",
        "# plt.ylabel(\"Density\")\n",
        "# plt.show()"
      ],
      "execution_count": null,
      "outputs": [
        {
          "output_type": "display_data",
          "data": {
            "image/png": "[encoded data removed]",
            "text/plain": [
              "<Figure size 432x288 with 1 Axes>"
            ]
          },
          "metadata": {
            "tags": [],
            "needs_background": "light"
          }
        }
      ]
    },
    {
      "cell_type": "markdown",
      "metadata": {
        "id": "_rzB2ezyCa6S"
      },
      "source": [
        "#Data Pre-processing"
      ]
    },
    {
      "cell_type": "code",
      "metadata": {
        "id": "BStFyfsKznIX"
      },
      "source": [
        "import re\n",
        "def preprocess(text):\n",
        "\n",
        "    text=text.lower()\n",
        "    # remove hyperlinks\n",
        "    text = re.sub(r'https?:\\/\\/.*[\\r\\n]*', '', text)\n",
        "    text = re.sub(r'http?:\\/\\/.*[\\r\\n]*', '', text)\n",
        "    #Replace &amp, &lt, &gt with &,<,> respectively\n",
        "    text=text.replace(r'&amp;?',r'and')\n",
        "    text=text.replace(r'&lt;',r'<')\n",
        "    text=text.replace(r'&gt;',r'>')\n",
        "    #remove hashtag sign\n",
        "    #text=re.sub(r\"#\",\"\",text)   \n",
        "    #remove mentions\n",
        "    text = re.sub(r\"(?:\\@)\\w+\", '', text)\n",
        "    #text=re.sub(r\"@\",\"\",text)\n",
        "    #remove non ascii chars\n",
        "    text=text.encode(\"ascii\",errors=\"ignore\").decode()\n",
        "    #remove some puncts (except . ! ?)\n",
        "    text=re.sub(r'[:\"#$%&\\*+,-/:;<=>@\\\\^_`{|}~]+','',text)\n",
        "    text=re.sub(r'[!]+','!',text)\n",
        "    text=re.sub(r'[?]+','?',text)\n",
        "    text=re.sub(r'[.]+','.',text)\n",
        "    text=re.sub(r\"'\",\"\",text)\n",
        "    text=re.sub(r\"\\(\",\"\",text)\n",
        "    text=re.sub(r\"\\)\",\"\",text)\n",
        "    \n",
        "    text=\" \".join(text.split())\n",
        "    return text\n",
        "\n",
        "updated_train['review'] = updated_train['review'].apply(preprocess)\n",
        "updated_test['review'] = updated_test['review'].apply(preprocess)\n",
        "updated_train = updated_train[updated_train[\"review\"]!='']"
      ],
      "execution_count": null,
      "outputs": []
    },
    {
      "cell_type": "code",
      "metadata": {
        "colab": {
          "base_uri": "https://localhost:8080/",
          "height": 206
        },
        "id": "1nOwk7PEznNj",
        "outputId": "df39eb94-5e1e-43e4-d4d6-3d97ea1cfa61"
      },
      "source": [
        "updated_train = updated_train[[\"review\",\"sentiment\"]]\n",
        "updated_train.head()"
      ],
      "execution_count": null,
      "outputs": [
        {
          "output_type": "execute_result",
          "data": {
            "text/html": [
              "<div>\n",
              "<style scoped>\n",
              "    .dataframe tbody tr th:only-of-type {\n",
              "        vertical-align: middle;\n",
              "    }\n",
              "\n",
              "    .dataframe tbody tr th {\n",
              "        vertical-align: top;\n",
              "    }\n",
              "\n",
              "    .dataframe thead th {\n",
              "        text-align: right;\n",
              "    }\n",
              "</style>\n",
              "<table border=\"1\" class=\"dataframe\">\n",
              "  <thead>\n",
              "    <tr style=\"text-align: right;\">\n",
              "      <th></th>\n",
              "      <th>review</th>\n",
              "      <th>sentiment</th>\n",
              "    </tr>\n",
              "  </thead>\n",
              "  <tbody>\n",
              "    <tr>\n",
              "      <th>0</th>\n",
              "      <td>think robert ryans best film portrayed someone...</td>\n",
              "      <td>1</td>\n",
              "    </tr>\n",
              "    <tr>\n",
              "      <th>1</th>\n",
              "      <td>juano hernandez exceptional actor played suppo...</td>\n",
              "      <td>1</td>\n",
              "    </tr>\n",
              "    <tr>\n",
              "      <th>2</th>\n",
              "      <td>shocked sign indicate cash</td>\n",
              "      <td>0</td>\n",
              "    </tr>\n",
              "    <tr>\n",
              "      <th>3</th>\n",
              "      <td>sat another ten minute finally gave left</td>\n",
              "      <td>0</td>\n",
              "    </tr>\n",
              "    <tr>\n",
              "      <th>4</th>\n",
              "      <td>igo charger tip really great</td>\n",
              "      <td>1</td>\n",
              "    </tr>\n",
              "  </tbody>\n",
              "</table>\n",
              "</div>"
            ],
            "text/plain": [
              "                                              review  sentiment\n",
              "0  think robert ryans best film portrayed someone...          1\n",
              "1  juano hernandez exceptional actor played suppo...          1\n",
              "2                         shocked sign indicate cash          0\n",
              "3           sat another ten minute finally gave left          0\n",
              "4                       igo charger tip really great          1"
            ]
          },
          "metadata": {
            "tags": []
          },
          "execution_count": 31
        }
      ]
    },
    {
      "cell_type": "code",
      "metadata": {
        "colab": {
          "base_uri": "https://localhost:8080/"
        },
        "id": "k_-v6_tSznPZ",
        "outputId": "c83de859-09d2-49d2-da20-a144a29cf817"
      },
      "source": [
        "updated_train[\"sentiment\"].value_counts()"
      ],
      "execution_count": null,
      "outputs": [
        {
          "output_type": "execute_result",
          "data": {
            "text/plain": [
              "1    1039\n",
              "0    1021\n",
              "Name: sentiment, dtype: int64"
            ]
          },
          "metadata": {
            "tags": []
          },
          "execution_count": 8
        }
      ]
    },
    {
      "cell_type": "code",
      "metadata": {
        "colab": {
          "base_uri": "https://localhost:8080/"
        },
        "id": "cVLfsFmSXD-j",
        "outputId": "c6a2f063-22ae-4a03-ef4e-dbb8e1bc6885"
      },
      "source": [
        "updated_train.shape"
      ],
      "execution_count": null,
      "outputs": [
        {
          "output_type": "execute_result",
          "data": {
            "text/plain": [
              "(2060, 2)"
            ]
          },
          "metadata": {
            "tags": []
          },
          "execution_count": 9
        }
      ]
    },
    {
      "cell_type": "code",
      "metadata": {
        "id": "VaDpzhEGznQt"
      },
      "source": [
        "# Get the lists of lyrics and their labels.\n",
        "texts = updated_train.review.values\n",
        "labels = updated_train.sentiment.values"
      ],
      "execution_count": null,
      "outputs": []
    },
    {
      "cell_type": "code",
      "metadata": {
        "id": "gpuXbGxs1q4t"
      },
      "source": [
        "!pip install transformers"
      ],
      "execution_count": null,
      "outputs": []
    },
    {
      "cell_type": "code",
      "metadata": {
        "id": "0wmeEw2JznSM"
      },
      "source": [
        "from transformers import ElectraTokenizer, ElectraForSequenceClassification,AdamW\n",
        "import torch\n",
        "tokenizer = ElectraTokenizer.from_pretrained('google/electra-base-discriminator')\n",
        "model = ElectraForSequenceClassification.from_pretrained('google/electra-base-discriminator',num_labels=2)\n",
        "model.cuda()"
      ],
      "execution_count": null,
      "outputs": []
    },
    {
      "cell_type": "code",
      "metadata": {
        "colab": {
          "base_uri": "https://localhost:8080/",
          "height": 334
        },
        "id": "eYxtKz9BznUR",
        "outputId": "12043e35-b043-411d-ff0f-da30c0fda08a"
      },
      "source": [
        "#to show length of embedding will be helpful to determine maximum length of comments and padding threshold\n",
        "import matplotlib.pyplot as plt\n",
        "def plot_sentence_embeddings_length(text_list, tokenizer):\n",
        "    tokenized_texts = list(map(lambda t: tokenizer.tokenize(t), text_list))\n",
        "    tokenized_texts_len = list(map(lambda t: len(t), tokenized_texts))\n",
        "    fig, ax = plt.subplots(figsize=(8, 5));\n",
        "    ax.hist(tokenized_texts_len, bins=40);\n",
        "    ax.set_xlabel(\"Length of Comment Embeddings\");\n",
        "    ax.set_ylabel(\"Number of Comments\");\n",
        "    return\n",
        "plot_sentence_embeddings_length(texts, tokenizer)"
      ],
      "execution_count": null,
      "outputs": [
        {
          "output_type": "display_data",
          "data": {
            "image/png": "[encoded data removed]",
            "text/plain": [
              "<Figure size 576x360 with 1 Axes>"
            ]
          },
          "metadata": {
            "tags": [],
            "needs_background": "light"
          }
        }
      ]
    },
    {
      "cell_type": "code",
      "metadata": {
        "id": "pldBHMuwznWa"
      },
      "source": [
        "indices=tokenizer.batch_encode_plus(texts,max_length=64,add_special_tokens=True, return_attention_mask=True,pad_to_max_length=True,truncation=True)\n",
        "\n",
        "input_ids=indices[\"input_ids\"]\n",
        "attention_masks=indices[\"attention_mask\"]"
      ],
      "execution_count": null,
      "outputs": []
    },
    {
      "cell_type": "code",
      "metadata": {
        "id": "FHOKX-D5znZx"
      },
      "source": [
        "from sklearn.model_selection import train_test_split\n",
        "\n",
        "# Use 99.9% for training and 0.1% for validation.\n",
        "train_inputs, validation_inputs, train_labels, validation_labels = train_test_split(input_ids, labels, \n",
        "                                                            random_state=42, test_size=0.001)\n",
        "# Do the same for the masks.\n",
        "train_masks, validation_masks, _, _ = train_test_split(attention_masks, labels,\n",
        "                                             random_state=42, test_size=0.001)"
      ],
      "execution_count": null,
      "outputs": []
    },
    {
      "cell_type": "code",
      "metadata": {
        "id": "2jD5BoHwcgn0"
      },
      "source": [
        ""
      ],
      "execution_count": null,
      "outputs": []
    },
    {
      "cell_type": "code",
      "metadata": {
        "id": "uGzGlGiJ2K-D"
      },
      "source": [
        "# Convert all of our data into torch tensors, the required datatype for our model\n",
        "train_inputs = torch.tensor(train_inputs)\n",
        "validation_inputs = torch.tensor(validation_inputs)\n",
        "train_labels = torch.tensor(train_labels, dtype=torch.long)\n",
        "validation_labels = torch.tensor(validation_labels, dtype=torch.long)\n",
        "train_masks = torch.tensor(train_masks, dtype=torch.long)\n",
        "validation_masks = torch.tensor(validation_masks, dtype=torch.long)"
      ],
      "execution_count": null,
      "outputs": []
    },
    {
      "cell_type": "code",
      "metadata": {
        "id": "bD5y2O522PSI"
      },
      "source": [
        "from torch.utils.data import TensorDataset, DataLoader, RandomSampler, SequentialSampler\n",
        "\n",
        "batch_size = 32\n",
        "\n",
        "# Create the DataLoader for our training set.\n",
        "train_data = TensorDataset(train_inputs, train_masks, train_labels)\n",
        "train_sampler = RandomSampler(train_data)\n",
        "train_dataloader = DataLoader(train_data, sampler=train_sampler, batch_size=batch_size)\n",
        "\n",
        "# Create the DataLoader for our validation set.\n",
        "validation_data = TensorDataset(validation_inputs, validation_masks, validation_labels)\n",
        "validation_sampler = SequentialSampler(validation_data)\n",
        "validation_dataloader = DataLoader(validation_data, sampler=validation_sampler, batch_size=batch_size)"
      ],
      "execution_count": null,
      "outputs": []
    },
    {
      "cell_type": "code",
      "metadata": {
        "id": "i834r4ZW2QGc"
      },
      "source": [
        "optimizer = AdamW(model.parameters(),\n",
        "                  lr = 10e-6, # args.learning_rate - default is 5e-5\n",
        "                  eps = 1e-8 # args.adam_epsilon  - default is 1e-8.\n",
        "                )\n",
        "\n",
        "from transformers import get_linear_schedule_with_warmup\n",
        "\n",
        "# Number of training epochs\n",
        "epochs = 40\n",
        "\n",
        "# Total number of training steps is number of batches * number of epochs.\n",
        "total_steps = len(train_dataloader) * epochs\n",
        "\n",
        "# Create the learning rate scheduler.\n",
        "scheduler = get_linear_schedule_with_warmup(optimizer, \n",
        "                                            num_warmup_steps = 0, \n",
        "                                            num_training_steps = total_steps)"
      ],
      "execution_count": null,
      "outputs": []
    },
    {
      "cell_type": "code",
      "metadata": {
        "id": "bicApiV_2QIQ"
      },
      "source": [
        "import numpy as np\n",
        "\n",
        "# Function to calculate the accuracy of our predictions vs labels\n",
        "def flat_accuracy(preds, labels):\n",
        "    pred_flat = np.argmax(preds, axis=1).flatten()\n",
        "    labels_flat = labels.flatten()\n",
        "    return np.sum(pred_flat == labels_flat) / len(labels_flat)"
      ],
      "execution_count": null,
      "outputs": []
    },
    {
      "cell_type": "code",
      "metadata": {
        "id": "VTsQHTDp27DC"
      },
      "source": [
        "import time\n",
        "import datetime\n",
        "\n",
        "def format_time(elapsed):\n",
        "    '''\n",
        "    Takes a time in seconds and returns a string hh:mm:ss\n",
        "    '''\n",
        "    # Round to the nearest second.\n",
        "    elapsed_rounded = int(round((elapsed)))\n",
        "    \n",
        "    # Format as hh:mm:ss\n",
        "    return str(datetime.timedelta(seconds=elapsed_rounded))"
      ],
      "execution_count": null,
      "outputs": []
    },
    {
      "cell_type": "code",
      "metadata": {
        "colab": {
          "base_uri": "https://localhost:8080/"
        },
        "id": "DEWWR4yU2QLI",
        "outputId": "64c2cd73-058f-4b48-da16-ed3d1342e35d"
      },
      "source": [
        "import random\n",
        "#import time\n",
        "\n",
        "# Set the seed value all over the place to make this reproducible.\n",
        "seed_val = 42\n",
        "\n",
        "random.seed(seed_val)\n",
        "np.random.seed(seed_val)\n",
        "torch.manual_seed(seed_val)\n",
        "torch.cuda.manual_seed_all(seed_val)\n",
        "\n",
        "# Store the average loss after each epoch so we can plot them.\n",
        "loss_values = []\n",
        "\n",
        "# For each epoch...\n",
        "for epoch_i in range(0, epochs):\n",
        "    print(\"\")\n",
        "    print('======== Epoch {:} / {:} ========'.format(epoch_i + 1, epochs))\n",
        "    print('Training...')\n",
        "\n",
        "    # Measure how long the training epoch takes.\n",
        "    t0 = time.time()\n",
        "\n",
        "    # Reset the total loss for this epoch.\n",
        "    total_loss = 0\n",
        "\n",
        "    model.train()\n",
        "\n",
        "    for step, batch in enumerate(train_dataloader):\n",
        "\n",
        "        # Progress update every 10 batches.\n",
        "        if step % 10 == 0 and not step == 0:\n",
        "            # Calculate elapsed time in minutes.\n",
        "            elapsed = format_time(time.time() - t0)\n",
        "            print('  Batch {:>5,}  of  {:>5,}.    Elapsed: {:}.'.format(step, len(train_dataloader), elapsed))\n",
        "\n",
        "        # `batch` contains three pytorch tensors: [0]: input ids ,[1]: attention masks,[2]: labels \n",
        "        b_input_ids = batch[0].to(device)\n",
        "        b_input_mask = batch[1].to(device)\n",
        "        b_labels = batch[2].to(device)\n",
        "\n",
        "        # Clear any previously calculated gradients.\n",
        "        model.zero_grad()        \n",
        "\n",
        "        # Evaluate the model on this training batch.\n",
        "        outputs = model(b_input_ids, \n",
        "                    token_type_ids=None, \n",
        "                    attention_mask=b_input_mask, \n",
        "                    labels=b_labels)\n",
        "        loss = outputs[0]\n",
        "\n",
        "        # Accumulate the training loss over all of the batches \n",
        "        total_loss += loss.item()\n",
        "        loss.backward()\n",
        "\n",
        "        # Clip the norm of the gradients to 1.0. to prevent the \"exploding gradients\" problem.\n",
        "        torch.nn.utils.clip_grad_norm_(model.parameters(), 1.0)\n",
        "        optimizer.step()\n",
        "\n",
        "        # Update the learning rate.\n",
        "        scheduler.step()\n",
        "\n",
        "    # Calculate the average loss over the training data.\n",
        "    avg_train_loss = total_loss / len(train_dataloader)            \n",
        "    \n",
        "    # Store the loss value for plotting the learning curve.\n",
        "    loss_values.append(avg_train_loss)\n",
        "\n",
        "    print(\"\")\n",
        "    print(\"  Average training loss: {0:.2f}\".format(avg_train_loss))\n",
        "    print(\"  Training epoch took: {:}\".format(format_time(time.time() - t0)))\n",
        "      \n",
        "print(\"\")\n",
        "print(\"Training complete!\")"
      ],
      "execution_count": null,
      "outputs": [
        {
          "output_type": "stream",
          "text": [
            "\n",
            "======== Epoch 1 / 40 ========\n",
            "Training...\n",
            "  Batch    10  of     65.    Elapsed: 0:00:04.\n",
            "  Batch    20  of     65.    Elapsed: 0:00:07.\n",
            "  Batch    30  of     65.    Elapsed: 0:00:11.\n",
            "  Batch    40  of     65.    Elapsed: 0:00:15.\n",
            "  Batch    50  of     65.    Elapsed: 0:00:19.\n",
            "  Batch    60  of     65.    Elapsed: 0:00:23.\n",
            "\n",
            "  Average training loss: 0.67\n",
            "  Training epoch took: 0:00:25\n",
            "\n",
            "======== Epoch 2 / 40 ========\n",
            "Training...\n",
            "  Batch    10  of     65.    Elapsed: 0:00:04.\n",
            "  Batch    20  of     65.    Elapsed: 0:00:08.\n",
            "  Batch    30  of     65.    Elapsed: 0:00:12.\n",
            "  Batch    40  of     65.    Elapsed: 0:00:16.\n",
            "  Batch    50  of     65.    Elapsed: 0:00:20.\n",
            "  Batch    60  of     65.    Elapsed: 0:00:24.\n",
            "\n",
            "  Average training loss: 0.46\n",
            "  Training epoch took: 0:00:25\n",
            "\n",
            "======== Epoch 3 / 40 ========\n",
            "Training...\n",
            "  Batch    10  of     65.    Elapsed: 0:00:04.\n",
            "  Batch    20  of     65.    Elapsed: 0:00:08.\n",
            "  Batch    30  of     65.    Elapsed: 0:00:11.\n",
            "  Batch    40  of     65.    Elapsed: 0:00:15.\n",
            "  Batch    50  of     65.    Elapsed: 0:00:19.\n",
            "  Batch    60  of     65.    Elapsed: 0:00:23.\n",
            "\n",
            "  Average training loss: 0.32\n",
            "  Training epoch took: 0:00:24\n",
            "\n",
            "======== Epoch 4 / 40 ========\n",
            "Training...\n",
            "  Batch    10  of     65.    Elapsed: 0:00:04.\n",
            "  Batch    20  of     65.    Elapsed: 0:00:07.\n",
            "  Batch    30  of     65.    Elapsed: 0:00:11.\n",
            "  Batch    40  of     65.    Elapsed: 0:00:15.\n",
            "  Batch    50  of     65.    Elapsed: 0:00:19.\n",
            "  Batch    60  of     65.    Elapsed: 0:00:23.\n",
            "\n",
            "  Average training loss: 0.26\n",
            "  Training epoch took: 0:00:24\n",
            "\n",
            "======== Epoch 5 / 40 ========\n",
            "Training...\n",
            "  Batch    10  of     65.    Elapsed: 0:00:04.\n",
            "  Batch    20  of     65.    Elapsed: 0:00:08.\n",
            "  Batch    30  of     65.    Elapsed: 0:00:12.\n",
            "  Batch    40  of     65.    Elapsed: 0:00:15.\n",
            "  Batch    50  of     65.    Elapsed: 0:00:19.\n",
            "  Batch    60  of     65.    Elapsed: 0:00:23.\n",
            "\n",
            "  Average training loss: 0.19\n",
            "  Training epoch took: 0:00:25\n",
            "\n",
            "======== Epoch 6 / 40 ========\n",
            "Training...\n",
            "  Batch    10  of     65.    Elapsed: 0:00:04.\n",
            "  Batch    20  of     65.    Elapsed: 0:00:08.\n",
            "  Batch    30  of     65.    Elapsed: 0:00:12.\n",
            "  Batch    40  of     65.    Elapsed: 0:00:15.\n",
            "  Batch    50  of     65.    Elapsed: 0:00:19.\n",
            "  Batch    60  of     65.    Elapsed: 0:00:23.\n",
            "\n",
            "  Average training loss: 0.19\n",
            "  Training epoch took: 0:00:25\n",
            "\n",
            "======== Epoch 7 / 40 ========\n",
            "Training...\n",
            "  Batch    10  of     65.    Elapsed: 0:00:04.\n",
            "  Batch    20  of     65.    Elapsed: 0:00:08.\n",
            "  Batch    30  of     65.    Elapsed: 0:00:11.\n",
            "  Batch    40  of     65.    Elapsed: 0:00:15.\n",
            "  Batch    50  of     65.    Elapsed: 0:00:19.\n",
            "  Batch    60  of     65.    Elapsed: 0:00:23.\n",
            "\n",
            "  Average training loss: 0.15\n",
            "  Training epoch took: 0:00:25\n",
            "\n",
            "======== Epoch 8 / 40 ========\n",
            "Training...\n",
            "  Batch    10  of     65.    Elapsed: 0:00:04.\n",
            "  Batch    20  of     65.    Elapsed: 0:00:08.\n",
            "  Batch    30  of     65.    Elapsed: 0:00:11.\n",
            "  Batch    40  of     65.    Elapsed: 0:00:15.\n",
            "  Batch    50  of     65.    Elapsed: 0:00:19.\n",
            "  Batch    60  of     65.    Elapsed: 0:00:23.\n",
            "\n",
            "  Average training loss: 0.13\n",
            "  Training epoch took: 0:00:24\n",
            "\n",
            "======== Epoch 9 / 40 ========\n",
            "Training...\n",
            "  Batch    10  of     65.    Elapsed: 0:00:04.\n",
            "  Batch    20  of     65.    Elapsed: 0:00:08.\n",
            "  Batch    30  of     65.    Elapsed: 0:00:11.\n",
            "  Batch    40  of     65.    Elapsed: 0:00:15.\n",
            "  Batch    50  of     65.    Elapsed: 0:00:19.\n",
            "  Batch    60  of     65.    Elapsed: 0:00:23.\n",
            "\n",
            "  Average training loss: 0.11\n",
            "  Training epoch took: 0:00:24\n",
            "\n",
            "======== Epoch 10 / 40 ========\n",
            "Training...\n",
            "  Batch    10  of     65.    Elapsed: 0:00:04.\n",
            "  Batch    20  of     65.    Elapsed: 0:00:08.\n",
            "  Batch    30  of     65.    Elapsed: 0:00:11.\n",
            "  Batch    40  of     65.    Elapsed: 0:00:15.\n",
            "  Batch    50  of     65.    Elapsed: 0:00:19.\n",
            "  Batch    60  of     65.    Elapsed: 0:00:23.\n",
            "\n",
            "  Average training loss: 0.12\n",
            "  Training epoch took: 0:00:25\n",
            "\n",
            "======== Epoch 11 / 40 ========\n",
            "Training...\n",
            "  Batch    10  of     65.    Elapsed: 0:00:04.\n",
            "  Batch    20  of     65.    Elapsed: 0:00:08.\n",
            "  Batch    30  of     65.    Elapsed: 0:00:11.\n",
            "  Batch    40  of     65.    Elapsed: 0:00:15.\n",
            "  Batch    50  of     65.    Elapsed: 0:00:19.\n",
            "  Batch    60  of     65.    Elapsed: 0:00:23.\n",
            "\n",
            "  Average training loss: 0.09\n",
            "  Training epoch took: 0:00:25\n",
            "\n",
            "======== Epoch 12 / 40 ========\n",
            "Training...\n",
            "  Batch    10  of     65.    Elapsed: 0:00:04.\n",
            "  Batch    20  of     65.    Elapsed: 0:00:08.\n",
            "  Batch    30  of     65.    Elapsed: 0:00:11.\n",
            "  Batch    40  of     65.    Elapsed: 0:00:15.\n",
            "  Batch    50  of     65.    Elapsed: 0:00:19.\n",
            "  Batch    60  of     65.    Elapsed: 0:00:23.\n",
            "\n",
            "  Average training loss: 0.08\n",
            "  Training epoch took: 0:00:25\n",
            "\n",
            "======== Epoch 13 / 40 ========\n",
            "Training...\n",
            "  Batch    10  of     65.    Elapsed: 0:00:04.\n",
            "  Batch    20  of     65.    Elapsed: 0:00:08.\n",
            "  Batch    30  of     65.    Elapsed: 0:00:11.\n",
            "  Batch    40  of     65.    Elapsed: 0:00:15.\n",
            "  Batch    50  of     65.    Elapsed: 0:00:19.\n",
            "  Batch    60  of     65.    Elapsed: 0:00:23.\n",
            "\n",
            "  Average training loss: 0.06\n",
            "  Training epoch took: 0:00:25\n",
            "\n",
            "======== Epoch 14 / 40 ========\n",
            "Training...\n",
            "  Batch    10  of     65.    Elapsed: 0:00:04.\n",
            "  Batch    20  of     65.    Elapsed: 0:00:08.\n",
            "  Batch    30  of     65.    Elapsed: 0:00:11.\n",
            "  Batch    40  of     65.    Elapsed: 0:00:15.\n",
            "  Batch    50  of     65.    Elapsed: 0:00:19.\n",
            "  Batch    60  of     65.    Elapsed: 0:00:23.\n",
            "\n",
            "  Average training loss: 0.07\n",
            "  Training epoch took: 0:00:24\n",
            "\n",
            "======== Epoch 15 / 40 ========\n",
            "Training...\n",
            "  Batch    10  of     65.    Elapsed: 0:00:04.\n",
            "  Batch    20  of     65.    Elapsed: 0:00:08.\n",
            "  Batch    30  of     65.    Elapsed: 0:00:11.\n",
            "  Batch    40  of     65.    Elapsed: 0:00:15.\n",
            "  Batch    50  of     65.    Elapsed: 0:00:19.\n",
            "  Batch    60  of     65.    Elapsed: 0:00:23.\n",
            "\n",
            "  Average training loss: 0.06\n",
            "  Training epoch took: 0:00:24\n",
            "\n",
            "======== Epoch 16 / 40 ========\n",
            "Training...\n",
            "  Batch    10  of     65.    Elapsed: 0:00:04.\n",
            "  Batch    20  of     65.    Elapsed: 0:00:08.\n",
            "  Batch    30  of     65.    Elapsed: 0:00:11.\n",
            "  Batch    40  of     65.    Elapsed: 0:00:15.\n",
            "  Batch    50  of     65.    Elapsed: 0:00:19.\n",
            "  Batch    60  of     65.    Elapsed: 0:00:23.\n",
            "\n",
            "  Average training loss: 0.05\n",
            "  Training epoch took: 0:00:24\n",
            "\n",
            "======== Epoch 17 / 40 ========\n",
            "Training...\n",
            "  Batch    10  of     65.    Elapsed: 0:00:04.\n",
            "  Batch    20  of     65.    Elapsed: 0:00:08.\n",
            "  Batch    30  of     65.    Elapsed: 0:00:11.\n",
            "  Batch    40  of     65.    Elapsed: 0:00:15.\n",
            "  Batch    50  of     65.    Elapsed: 0:00:19.\n",
            "  Batch    60  of     65.    Elapsed: 0:00:23.\n",
            "\n",
            "  Average training loss: 0.05\n",
            "  Training epoch took: 0:00:24\n",
            "\n",
            "======== Epoch 18 / 40 ========\n",
            "Training...\n",
            "  Batch    10  of     65.    Elapsed: 0:00:04.\n",
            "  Batch    20  of     65.    Elapsed: 0:00:08.\n",
            "  Batch    30  of     65.    Elapsed: 0:00:11.\n",
            "  Batch    40  of     65.    Elapsed: 0:00:15.\n",
            "  Batch    50  of     65.    Elapsed: 0:00:19.\n",
            "  Batch    60  of     65.    Elapsed: 0:00:23.\n",
            "\n",
            "  Average training loss: 0.05\n",
            "  Training epoch took: 0:00:24\n",
            "\n",
            "======== Epoch 19 / 40 ========\n",
            "Training...\n",
            "  Batch    10  of     65.    Elapsed: 0:00:04.\n",
            "  Batch    20  of     65.    Elapsed: 0:00:08.\n",
            "  Batch    30  of     65.    Elapsed: 0:00:11.\n",
            "  Batch    40  of     65.    Elapsed: 0:00:15.\n",
            "  Batch    50  of     65.    Elapsed: 0:00:19.\n",
            "  Batch    60  of     65.    Elapsed: 0:00:23.\n",
            "\n",
            "  Average training loss: 0.05\n",
            "  Training epoch took: 0:00:24\n",
            "\n",
            "======== Epoch 20 / 40 ========\n",
            "Training...\n",
            "  Batch    10  of     65.    Elapsed: 0:00:04.\n",
            "  Batch    20  of     65.    Elapsed: 0:00:08.\n",
            "  Batch    30  of     65.    Elapsed: 0:00:11.\n",
            "  Batch    40  of     65.    Elapsed: 0:00:15.\n",
            "  Batch    50  of     65.    Elapsed: 0:00:19.\n",
            "  Batch    60  of     65.    Elapsed: 0:00:23.\n",
            "\n",
            "  Average training loss: 0.03\n",
            "  Training epoch took: 0:00:24\n",
            "\n",
            "======== Epoch 21 / 40 ========\n",
            "Training...\n",
            "  Batch    10  of     65.    Elapsed: 0:00:04.\n",
            "  Batch    20  of     65.    Elapsed: 0:00:08.\n",
            "  Batch    30  of     65.    Elapsed: 0:00:11.\n",
            "  Batch    40  of     65.    Elapsed: 0:00:15.\n",
            "  Batch    50  of     65.    Elapsed: 0:00:19.\n",
            "  Batch    60  of     65.    Elapsed: 0:00:23.\n",
            "\n",
            "  Average training loss: 0.02\n",
            "  Training epoch took: 0:00:24\n",
            "\n",
            "======== Epoch 22 / 40 ========\n",
            "Training...\n",
            "  Batch    10  of     65.    Elapsed: 0:00:04.\n",
            "  Batch    20  of     65.    Elapsed: 0:00:08.\n",
            "  Batch    30  of     65.    Elapsed: 0:00:11.\n",
            "  Batch    40  of     65.    Elapsed: 0:00:15.\n",
            "  Batch    50  of     65.    Elapsed: 0:00:19.\n",
            "  Batch    60  of     65.    Elapsed: 0:00:23.\n",
            "\n",
            "  Average training loss: 0.02\n",
            "  Training epoch took: 0:00:24\n",
            "\n",
            "======== Epoch 23 / 40 ========\n",
            "Training...\n",
            "  Batch    10  of     65.    Elapsed: 0:00:04.\n",
            "  Batch    20  of     65.    Elapsed: 0:00:08.\n",
            "  Batch    30  of     65.    Elapsed: 0:00:11.\n",
            "  Batch    40  of     65.    Elapsed: 0:00:15.\n",
            "  Batch    50  of     65.    Elapsed: 0:00:19.\n",
            "  Batch    60  of     65.    Elapsed: 0:00:23.\n",
            "\n",
            "  Average training loss: 0.03\n",
            "  Training epoch took: 0:00:24\n",
            "\n",
            "======== Epoch 24 / 40 ========\n",
            "Training...\n",
            "  Batch    10  of     65.    Elapsed: 0:00:04.\n",
            "  Batch    20  of     65.    Elapsed: 0:00:08.\n",
            "  Batch    30  of     65.    Elapsed: 0:00:11.\n",
            "  Batch    40  of     65.    Elapsed: 0:00:15.\n",
            "  Batch    50  of     65.    Elapsed: 0:00:19.\n",
            "  Batch    60  of     65.    Elapsed: 0:00:23.\n",
            "\n",
            "  Average training loss: 0.03\n",
            "  Training epoch took: 0:00:24\n",
            "\n",
            "======== Epoch 25 / 40 ========\n",
            "Training...\n",
            "  Batch    10  of     65.    Elapsed: 0:00:04.\n",
            "  Batch    20  of     65.    Elapsed: 0:00:08.\n",
            "  Batch    30  of     65.    Elapsed: 0:00:11.\n",
            "  Batch    40  of     65.    Elapsed: 0:00:15.\n",
            "  Batch    50  of     65.    Elapsed: 0:00:19.\n",
            "  Batch    60  of     65.    Elapsed: 0:00:23.\n",
            "\n",
            "  Average training loss: 0.03\n",
            "  Training epoch took: 0:00:24\n",
            "\n",
            "======== Epoch 26 / 40 ========\n",
            "Training...\n",
            "  Batch    10  of     65.    Elapsed: 0:00:04.\n",
            "  Batch    20  of     65.    Elapsed: 0:00:08.\n",
            "  Batch    30  of     65.    Elapsed: 0:00:11.\n",
            "  Batch    40  of     65.    Elapsed: 0:00:15.\n",
            "  Batch    50  of     65.    Elapsed: 0:00:19.\n",
            "  Batch    60  of     65.    Elapsed: 0:00:23.\n",
            "\n",
            "  Average training loss: 0.02\n",
            "  Training epoch took: 0:00:24\n",
            "\n",
            "======== Epoch 27 / 40 ========\n",
            "Training...\n",
            "  Batch    10  of     65.    Elapsed: 0:00:04.\n",
            "  Batch    20  of     65.    Elapsed: 0:00:08.\n",
            "  Batch    30  of     65.    Elapsed: 0:00:11.\n",
            "  Batch    40  of     65.    Elapsed: 0:00:15.\n",
            "  Batch    50  of     65.    Elapsed: 0:00:19.\n",
            "  Batch    60  of     65.    Elapsed: 0:00:23.\n",
            "\n",
            "  Average training loss: 0.02\n",
            "  Training epoch took: 0:00:24\n",
            "\n",
            "======== Epoch 28 / 40 ========\n",
            "Training...\n",
            "  Batch    10  of     65.    Elapsed: 0:00:04.\n",
            "  Batch    20  of     65.    Elapsed: 0:00:08.\n",
            "  Batch    30  of     65.    Elapsed: 0:00:11.\n",
            "  Batch    40  of     65.    Elapsed: 0:00:15.\n",
            "  Batch    50  of     65.    Elapsed: 0:00:19.\n",
            "  Batch    60  of     65.    Elapsed: 0:00:23.\n",
            "\n",
            "  Average training loss: 0.02\n",
            "  Training epoch took: 0:00:24\n",
            "\n",
            "======== Epoch 29 / 40 ========\n",
            "Training...\n",
            "  Batch    10  of     65.    Elapsed: 0:00:04.\n",
            "  Batch    20  of     65.    Elapsed: 0:00:08.\n",
            "  Batch    30  of     65.    Elapsed: 0:00:11.\n",
            "  Batch    40  of     65.    Elapsed: 0:00:15.\n",
            "  Batch    50  of     65.    Elapsed: 0:00:19.\n",
            "  Batch    60  of     65.    Elapsed: 0:00:23.\n",
            "\n",
            "  Average training loss: 0.02\n",
            "  Training epoch took: 0:00:24\n",
            "\n",
            "======== Epoch 30 / 40 ========\n",
            "Training...\n",
            "  Batch    10  of     65.    Elapsed: 0:00:04.\n",
            "  Batch    20  of     65.    Elapsed: 0:00:08.\n",
            "  Batch    30  of     65.    Elapsed: 0:00:11.\n",
            "  Batch    40  of     65.    Elapsed: 0:00:15.\n",
            "  Batch    50  of     65.    Elapsed: 0:00:19.\n",
            "  Batch    60  of     65.    Elapsed: 0:00:23.\n",
            "\n",
            "  Average training loss: 0.02\n",
            "  Training epoch took: 0:00:24\n",
            "\n",
            "======== Epoch 31 / 40 ========\n",
            "Training...\n",
            "  Batch    10  of     65.    Elapsed: 0:00:04.\n",
            "  Batch    20  of     65.    Elapsed: 0:00:08.\n",
            "  Batch    30  of     65.    Elapsed: 0:00:11.\n",
            "  Batch    40  of     65.    Elapsed: 0:00:15.\n",
            "  Batch    50  of     65.    Elapsed: 0:00:19.\n",
            "  Batch    60  of     65.    Elapsed: 0:00:23.\n",
            "\n",
            "  Average training loss: 0.01\n",
            "  Training epoch took: 0:00:24\n",
            "\n",
            "======== Epoch 32 / 40 ========\n",
            "Training...\n",
            "  Batch    10  of     65.    Elapsed: 0:00:04.\n",
            "  Batch    20  of     65.    Elapsed: 0:00:08.\n",
            "  Batch    30  of     65.    Elapsed: 0:00:11.\n",
            "  Batch    40  of     65.    Elapsed: 0:00:15.\n",
            "  Batch    50  of     65.    Elapsed: 0:00:19.\n",
            "  Batch    60  of     65.    Elapsed: 0:00:23.\n",
            "\n",
            "  Average training loss: 0.01\n",
            "  Training epoch took: 0:00:24\n",
            "\n",
            "======== Epoch 33 / 40 ========\n",
            "Training...\n",
            "  Batch    10  of     65.    Elapsed: 0:00:04.\n",
            "  Batch    20  of     65.    Elapsed: 0:00:08.\n",
            "  Batch    30  of     65.    Elapsed: 0:00:11.\n",
            "  Batch    40  of     65.    Elapsed: 0:00:15.\n",
            "  Batch    50  of     65.    Elapsed: 0:00:19.\n",
            "  Batch    60  of     65.    Elapsed: 0:00:23.\n",
            "\n",
            "  Average training loss: 0.02\n",
            "  Training epoch took: 0:00:24\n",
            "\n",
            "======== Epoch 34 / 40 ========\n",
            "Training...\n",
            "  Batch    10  of     65.    Elapsed: 0:00:04.\n",
            "  Batch    20  of     65.    Elapsed: 0:00:08.\n",
            "  Batch    30  of     65.    Elapsed: 0:00:11.\n",
            "  Batch    40  of     65.    Elapsed: 0:00:15.\n",
            "  Batch    50  of     65.    Elapsed: 0:00:19.\n",
            "  Batch    60  of     65.    Elapsed: 0:00:23.\n",
            "\n",
            "  Average training loss: 0.01\n",
            "  Training epoch took: 0:00:24\n",
            "\n",
            "======== Epoch 35 / 40 ========\n",
            "Training...\n",
            "  Batch    10  of     65.    Elapsed: 0:00:04.\n",
            "  Batch    20  of     65.    Elapsed: 0:00:08.\n",
            "  Batch    30  of     65.    Elapsed: 0:00:11.\n",
            "  Batch    40  of     65.    Elapsed: 0:00:15.\n",
            "  Batch    50  of     65.    Elapsed: 0:00:19.\n",
            "  Batch    60  of     65.    Elapsed: 0:00:23.\n",
            "\n",
            "  Average training loss: 0.01\n",
            "  Training epoch took: 0:00:24\n",
            "\n",
            "======== Epoch 36 / 40 ========\n",
            "Training...\n",
            "  Batch    10  of     65.    Elapsed: 0:00:04.\n",
            "  Batch    20  of     65.    Elapsed: 0:00:08.\n",
            "  Batch    30  of     65.    Elapsed: 0:00:11.\n",
            "  Batch    40  of     65.    Elapsed: 0:00:15.\n",
            "  Batch    50  of     65.    Elapsed: 0:00:19.\n",
            "  Batch    60  of     65.    Elapsed: 0:00:23.\n",
            "\n",
            "  Average training loss: 0.01\n",
            "  Training epoch took: 0:00:24\n",
            "\n",
            "======== Epoch 37 / 40 ========\n",
            "Training...\n",
            "  Batch    10  of     65.    Elapsed: 0:00:04.\n",
            "  Batch    20  of     65.    Elapsed: 0:00:08.\n",
            "  Batch    30  of     65.    Elapsed: 0:00:11.\n",
            "  Batch    40  of     65.    Elapsed: 0:00:15.\n",
            "  Batch    50  of     65.    Elapsed: 0:00:19.\n",
            "  Batch    60  of     65.    Elapsed: 0:00:23.\n",
            "\n",
            "  Average training loss: 0.02\n",
            "  Training epoch took: 0:00:24\n",
            "\n",
            "======== Epoch 38 / 40 ========\n",
            "Training...\n",
            "  Batch    10  of     65.    Elapsed: 0:00:04.\n",
            "  Batch    20  of     65.    Elapsed: 0:00:08.\n",
            "  Batch    30  of     65.    Elapsed: 0:00:11.\n",
            "  Batch    40  of     65.    Elapsed: 0:00:15.\n",
            "  Batch    50  of     65.    Elapsed: 0:00:19.\n",
            "  Batch    60  of     65.    Elapsed: 0:00:23.\n",
            "\n",
            "  Average training loss: 0.01\n",
            "  Training epoch took: 0:00:24\n",
            "\n",
            "======== Epoch 39 / 40 ========\n",
            "Training...\n",
            "  Batch    10  of     65.    Elapsed: 0:00:04.\n",
            "  Batch    20  of     65.    Elapsed: 0:00:08.\n",
            "  Batch    30  of     65.    Elapsed: 0:00:11.\n",
            "  Batch    40  of     65.    Elapsed: 0:00:15.\n",
            "  Batch    50  of     65.    Elapsed: 0:00:19.\n",
            "  Batch    60  of     65.    Elapsed: 0:00:23.\n",
            "\n",
            "  Average training loss: 0.01\n",
            "  Training epoch took: 0:00:24\n",
            "\n",
            "======== Epoch 40 / 40 ========\n",
            "Training...\n",
            "  Batch    10  of     65.    Elapsed: 0:00:04.\n",
            "  Batch    20  of     65.    Elapsed: 0:00:08.\n",
            "  Batch    30  of     65.    Elapsed: 0:00:11.\n",
            "  Batch    40  of     65.    Elapsed: 0:00:15.\n",
            "  Batch    50  of     65.    Elapsed: 0:00:19.\n",
            "  Batch    60  of     65.    Elapsed: 0:00:23.\n",
            "\n",
            "  Average training loss: 0.01\n",
            "  Training epoch took: 0:00:24\n",
            "\n",
            "Training complete!\n"
          ],
          "name": "stdout"
        }
      ]
    },
    {
      "cell_type": "code",
      "metadata": {
        "colab": {
          "base_uri": "https://localhost:8080/"
        },
        "id": "CP5k7BD-2QMd",
        "outputId": "717f70a8-8440-4905-8769-1e8233965fae"
      },
      "source": [
        "# Validation\n",
        "print(\"\")\n",
        "print(\"Running Validation...\")\n",
        "\n",
        "t0 = time.time()\n",
        "model.eval()\n",
        "\n",
        "preds=[]\n",
        "true=[]\n",
        "\n",
        "# Tracking variables \n",
        "eval_loss, eval_accuracy = 0, 0\n",
        "nb_eval_steps, nb_eval_examples = 0, 0\n",
        "\n",
        "# Evaluate data for one epoch\n",
        "for batch in validation_dataloader:\n",
        "    \n",
        "    # Add batch to GPU\n",
        "    batch = tuple(t.to(device) for t in batch)\n",
        "    \n",
        "    # Unpack the inputs from our dataloader\n",
        "    b_input_ids, b_input_mask, b_labels = batch\n",
        "    \n",
        "    # Telling the model not to compute or store gradients, saving memory and speeding up validation\n",
        "    with torch.no_grad():        \n",
        "\n",
        "        outputs = model(b_input_ids, \n",
        "                        token_type_ids=None, \n",
        "                        attention_mask=b_input_mask)\n",
        "    \n",
        "    # Get the \"logits\" output by the model. The \"logits\" are the output values prior to applying an activation function like the softmax.\n",
        "    logits = outputs[0]\n",
        "\n",
        "    # Move logits and labels to CPU\n",
        "    logits = logits.detach().cpu().numpy()\n",
        "    label_ids = b_labels.to('cpu').numpy()\n",
        "    \n",
        "    preds.append(logits)\n",
        "    true.append(label_ids)\n",
        "    # Calculate the accuracy for this batch.\n",
        "    tmp_eval_accuracy = flat_accuracy(logits, label_ids)\n",
        "    \n",
        "    # Accumulate the total accuracy.\n",
        "    eval_accuracy += tmp_eval_accuracy\n",
        "\n",
        "    # Track the number of batches\n",
        "    nb_eval_steps += 1\n",
        "\n",
        "# Report the final accuracy for this validation run.\n",
        "print(\"  Accuracy: {0:.2f}\".format(eval_accuracy/nb_eval_steps))\n",
        "print(\"  Validation took: {:}\".format(format_time(time.time() - t0)))"
      ],
      "execution_count": null,
      "outputs": [
        {
          "output_type": "stream",
          "text": [
            "\n",
            "Running Validation...\n",
            "  Accuracy: 1.00\n",
            "  Validation took: 0:00:00\n"
          ],
          "name": "stdout"
        }
      ]
    },
    {
      "cell_type": "code",
      "metadata": {
        "id": "GUxPZT2o2QQZ"
      },
      "source": [
        "# Combine the predictions for each batch into a single list of 0s and 1s.\n",
        "flat_predictions = [item for sublist in preds for item in sublist]\n",
        "flat_predictions = np.argmax(flat_predictions, axis=1).flatten()\n",
        "\n",
        "# Combine the correct labels for each batch into a single list.\n",
        "flat_true_labels = [item for sublist in true for item in sublist]"
      ],
      "execution_count": null,
      "outputs": []
    },
    {
      "cell_type": "code",
      "metadata": {
        "id": "r2wN2IXO3TYo"
      },
      "source": [
        "comments1 = updated_test.review.values\n",
        "\n",
        "indices1=tokenizer.batch_encode_plus(comments1,max_length=64,add_special_tokens=True, return_attention_mask=True,pad_to_max_length=True,truncation=True)\n",
        "input_ids1=indices1[\"input_ids\"]\n",
        "attention_masks1=indices1[\"attention_mask\"]\n",
        "\n",
        "prediction_inputs1= torch.tensor(input_ids1)\n",
        "prediction_masks1 = torch.tensor(attention_masks1)\n",
        "\n",
        "\n",
        "# Set the batch size.  \n",
        "batch_size = 32 \n",
        "\n",
        "# Create the DataLoader.\n",
        "prediction_data1 = TensorDataset(prediction_inputs1, prediction_masks1)\n",
        "prediction_sampler1 = SequentialSampler(prediction_data1)\n",
        "prediction_dataloader1 = DataLoader(prediction_data1, sampler=prediction_sampler1, batch_size=batch_size)"
      ],
      "execution_count": null,
      "outputs": []
    },
    {
      "cell_type": "code",
      "metadata": {
        "colab": {
          "base_uri": "https://localhost:8080/"
        },
        "id": "P2mZIvD83TaP",
        "outputId": "79e3023f-fac0-4e2c-f88b-2356888df51a"
      },
      "source": [
        "print('Predicting labels for {:,} test sentences...'.format(len(prediction_inputs1)))\n",
        "\n",
        "# Put model in evaluation mode\n",
        "model.eval()\n",
        "\n",
        "# Tracking variables \n",
        "predictions = []\n",
        "\n",
        "# Predict \n",
        "for batch in prediction_dataloader1:\n",
        "  # Add batch to GPU\n",
        "  batch = tuple(t.to(device) for t in batch)\n",
        "  \n",
        "  # Unpack the inputs from our dataloader\n",
        "  b_input_ids1, b_input_mask1 = batch\n",
        "  \n",
        "  # Telling the model not to compute or store gradients, saving memory and \n",
        "  # speeding up prediction\n",
        "  with torch.no_grad():\n",
        "      # Forward pass, calculate logit predictions\n",
        "      outputs1 = model(b_input_ids1, token_type_ids=None, \n",
        "                      attention_mask=b_input_mask1)\n",
        "\n",
        "  logits1 = outputs1[0]\n",
        "\n",
        "  # Move logits and labels to CPU\n",
        "  logits1 = logits1.detach().cpu().numpy()\n",
        "  \n",
        "  \n",
        "  # Store predictions and true labels\n",
        "  predictions.append(logits1)\n",
        "\n",
        "flat_predictions = [item for sublist in predictions for item in sublist]\n",
        "flat_predictions = np.argmax(flat_predictions, axis=1).flatten()"
      ],
      "execution_count": null,
      "outputs": [
        {
          "output_type": "stream",
          "text": [
            "Predicting labels for 686 test sentences...\n"
          ],
          "name": "stdout"
        }
      ]
    },
    {
      "cell_type": "code",
      "metadata": {
        "id": "bjTS1qP03Tdl"
      },
      "source": [
        "#sample_sub=pd.read_csv('../input/nlp-getting-started/sample_submission.csv')\n",
        "submit=pd.DataFrame({'prediction':flat_predictions})\n",
        "#submit.to_csv('submission.csv',index=False)"
      ],
      "execution_count": null,
      "outputs": []
    },
    {
      "cell_type": "code",
      "metadata": {
        "colab": {
          "base_uri": "https://localhost:8080/",
          "height": 206
        },
        "id": "dnsdgGTh3TfP",
        "outputId": "99d8e85f-83bc-4292-a7ae-3012c1ecde36"
      },
      "source": [
        "submit.head()"
      ],
      "execution_count": null,
      "outputs": [
        {
          "output_type": "execute_result",
          "data": {
            "text/html": [
              "<div>\n",
              "<style scoped>\n",
              "    .dataframe tbody tr th:only-of-type {\n",
              "        vertical-align: middle;\n",
              "    }\n",
              "\n",
              "    .dataframe tbody tr th {\n",
              "        vertical-align: top;\n",
              "    }\n",
              "\n",
              "    .dataframe thead th {\n",
              "        text-align: right;\n",
              "    }\n",
              "</style>\n",
              "<table border=\"1\" class=\"dataframe\">\n",
              "  <thead>\n",
              "    <tr style=\"text-align: right;\">\n",
              "      <th></th>\n",
              "      <th>prediction</th>\n",
              "    </tr>\n",
              "  </thead>\n",
              "  <tbody>\n",
              "    <tr>\n",
              "      <th>0</th>\n",
              "      <td>1</td>\n",
              "    </tr>\n",
              "    <tr>\n",
              "      <th>1</th>\n",
              "      <td>1</td>\n",
              "    </tr>\n",
              "    <tr>\n",
              "      <th>2</th>\n",
              "      <td>0</td>\n",
              "    </tr>\n",
              "    <tr>\n",
              "      <th>3</th>\n",
              "      <td>0</td>\n",
              "    </tr>\n",
              "    <tr>\n",
              "      <th>4</th>\n",
              "      <td>1</td>\n",
              "    </tr>\n",
              "  </tbody>\n",
              "</table>\n",
              "</div>"
            ],
            "text/plain": [
              "   prediction\n",
              "0           1\n",
              "1           1\n",
              "2           0\n",
              "3           0\n",
              "4           1"
            ]
          },
          "metadata": {
            "tags": []
          },
          "execution_count": 48
        }
      ]
    },
    {
      "cell_type": "code",
      "metadata": {
        "id": "shfXztgp3Th6"
      },
      "source": [
        "submit.to_csv('submission_3_sentiment_Clssification_nlp.csv',index=False)"
      ],
      "execution_count": null,
      "outputs": []
    },
    {
      "cell_type": "code",
      "metadata": {
        "id": "PkiUIZfV3Tkw"
      },
      "source": [
        ""
      ],
      "execution_count": null,
      "outputs": []
    }
  ]
}